{
 "cells": [
  {
   "cell_type": "code",
   "execution_count": 1,
   "metadata": {},
   "outputs": [],
   "source": [
    "import numpy as np"
   ]
  },
  {
   "cell_type": "code",
   "execution_count": 148,
   "metadata": {},
   "outputs": [],
   "source": [
    "x=np.array([5,2,9,4])\n",
    "y=np.array([10,9,4,3])\n",
    "z=np.array([2.5,9.7,1.2,2.4])\n",
    "num=np.array([-1.6,-2.9,-3.0,-8.9])\n",
    "angles=np.array([90,180,270,360])\n",
    "set=np.array([2,2,2,3,4,3,9,9,8,7,7])"
   ]
  },
  {
   "cell_type": "code",
   "execution_count": 22,
   "metadata": {},
   "outputs": [],
   "source": [
    "sqrt=np.sqrt(x)\n",
    "power=np.power(x,3)\n",
    "mean=np.mean(x)\n",
    "exp=np.exp(x)\n",
    "log=np.log(x)\n",
    "log2=np.log2(x)\n",
    "log10=np.log10(x)\n",
    "a=np.reciprocal(x)\n",
    "b=np.isreal(x)\n",
    "c=np.square(x)"
   ]
  },
  {
   "cell_type": "code",
   "execution_count": 26,
   "metadata": {},
   "outputs": [
    {
     "data": {
      "text/plain": [
       "(array([2.23606798, 1.41421356, 3.        , 2.        ]),\n",
       " array([125,   8, 729,  64], dtype=int32),\n",
       " 5.0,\n",
       " array([1.48413159e+02, 7.38905610e+00, 8.10308393e+03, 5.45981500e+01]),\n",
       " array([1.60943791, 0.69314718, 2.19722458, 1.38629436]),\n",
       " array([2.32192809, 1.        , 3.169925  , 2.        ]),\n",
       " array([0.69897   , 0.30103   , 0.95424251, 0.60205999]),\n",
       " array([0.4       , 0.10309278, 0.83333333, 0.41666667]),\n",
       " array([ True,  True,  True,  True]),\n",
       " array([25,  4, 81, 16], dtype=int32))"
      ]
     },
     "execution_count": 26,
     "metadata": {},
     "output_type": "execute_result"
    }
   ],
   "source": [
    "sqrt,power,mean,exp,log,log2,log10,a,b,c\n"
   ]
  },
  {
   "cell_type": "code",
   "execution_count": 27,
   "metadata": {},
   "outputs": [
    {
     "data": {
      "text/plain": [
       "(array([5, 2, 9, 4]), array([10,  9,  4,  3]), array([2.5, 9.7, 1.2, 2.4]))"
      ]
     },
     "execution_count": 27,
     "metadata": {},
     "output_type": "execute_result"
    }
   ],
   "source": [
    "x,y,z"
   ]
  },
  {
   "cell_type": "code",
   "execution_count": 54,
   "metadata": {},
   "outputs": [],
   "source": [
    "absolute=np.absolute(num)\n",
    "d=np.maximum(x,y)\n",
    "f=np.minimum(x,y)"
   ]
  },
  {
   "cell_type": "code",
   "execution_count": 55,
   "metadata": {},
   "outputs": [
    {
     "data": {
      "text/plain": [
       "(array([1.6, 2.9, 3. , 8.9]), array([10,  9,  9,  4]), array([5, 2, 4, 3]))"
      ]
     },
     "execution_count": 55,
     "metadata": {},
     "output_type": "execute_result"
    }
   ],
   "source": [
    "absolute,d,f"
   ]
  },
  {
   "cell_type": "code",
   "execution_count": 108,
   "metadata": {},
   "outputs": [
    {
     "data": {
      "text/plain": [
       "array([ 0.89399666, -0.80115264, -0.17604595,  0.95891572])"
      ]
     },
     "execution_count": 108,
     "metadata": {},
     "output_type": "execute_result"
    }
   ],
   "source": [
    "sinit=np.sin(angles)\n",
    "sinit"
   ]
  },
  {
   "cell_type": "code",
   "execution_count": 57,
   "metadata": {},
   "outputs": [
    {
     "data": {
      "text/plain": [
       "array([-0.44807362, -0.59846007,  0.98438195, -0.28369109])"
      ]
     },
     "execution_count": 57,
     "metadata": {},
     "output_type": "execute_result"
    }
   ],
   "source": [
    "np.cos(angles)"
   ]
  },
  {
   "cell_type": "code",
   "execution_count": 58,
   "metadata": {},
   "outputs": [
    {
     "data": {
      "text/plain": [
       "array([-1.99520041,  1.33869021, -0.17883906, -3.38014041])"
      ]
     },
     "execution_count": 58,
     "metadata": {},
     "output_type": "execute_result"
    }
   ],
   "source": [
    "np.tan(angles)"
   ]
  },
  {
   "cell_type": "code",
   "execution_count": 171,
   "metadata": {},
   "outputs": [],
   "source": [
    "sumit=np.sum(x)\n",
    "add=np.add(x,y)\n",
    "mul=np.multiply(x,y)\n",
    "division=np.divide(x,y)\n",
    "diff=np.subtract(x,y)\n",
    "tru=np.trunc(z)\n",
    "fixit=np.fix(num)\n",
    "roundnum=np.around(sinit,2)\n",
    "flornum=np.floor(sinit)\n",
    "ceil=np.ceil(num)\n",
    "modit=np.mod(x,y)\n",
    "divnmod=np.divmod(x,y)\n",
    "cumsum=np.cumsum(x)"
   ]
  },
  {
   "cell_type": "code",
   "execution_count": 172,
   "metadata": {
    "scrolled": true
   },
   "outputs": [
    {
     "data": {
      "text/plain": [
       "(20,\n",
       " array([15, 11, 13,  7]),\n",
       " array([50, 18, 36, 12]),\n",
       " array([0.5       , 0.22222222, 2.25      , 1.33333333]),\n",
       " array([-5, -7,  5,  1]),\n",
       " array([2., 9., 1., 2.]),\n",
       " array([-1., -2., -3., -8.]),\n",
       " array([ 0.89, -0.8 , -0.18,  0.96]),\n",
       " array([ 0., -1., -1.,  0.]),\n",
       " array([-1., -2., -3., -8.]),\n",
       " array([5, 2, 1, 1], dtype=int32),\n",
       " (array([0, 0, 2, 1], dtype=int32), array([5, 2, 1, 1], dtype=int32)),\n",
       " array([ 5,  7, 16, 20], dtype=int32))"
      ]
     },
     "execution_count": 172,
     "metadata": {},
     "output_type": "execute_result"
    }
   ],
   "source": [
    "sumit,add,mul,division,diff,tru,fixit,roundnum,flornum,ceil,modit,divnmod,cumsum"
   ]
  },
  {
   "cell_type": "code",
   "execution_count": 138,
   "metadata": {},
   "outputs": [
    {
     "data": {
      "text/plain": [
       "(60, 10)"
      ]
     },
     "execution_count": 138,
     "metadata": {},
     "output_type": "execute_result"
    }
   ],
   "source": [
    "num1=20\n",
    "num2=30\n",
    "lcm=np.lcm(num1,num2)\n",
    "gcd=np.gcd(num1,num2)\n",
    "lcm,gcd"
   ]
  },
  {
   "cell_type": "code",
   "execution_count": 136,
   "metadata": {},
   "outputs": [],
   "source": [
    "lcmit=np.lcm.reduce(x)\n",
    "gcdit=np.gcd.reduce(x)"
   ]
  },
  {
   "cell_type": "code",
   "execution_count": 137,
   "metadata": {},
   "outputs": [
    {
     "data": {
      "text/plain": [
       "(180, 1)"
      ]
     },
     "execution_count": 137,
     "metadata": {},
     "output_type": "execute_result"
    }
   ],
   "source": [
    "lcmit,gcdit"
   ]
  },
  {
   "cell_type": "code",
   "execution_count": 145,
   "metadata": {},
   "outputs": [],
   "source": [
    "d2r=np.deg2rad(angles)\n",
    "r2d=np.rad2deg(d2r)"
   ]
  },
  {
   "cell_type": "code",
   "execution_count": 146,
   "metadata": {},
   "outputs": [
    {
     "data": {
      "text/plain": [
       "(array([1.57079633, 3.14159265, 4.71238898, 6.28318531]),\n",
       " array([ 90., 180., 270., 360.]))"
      ]
     },
     "execution_count": 146,
     "metadata": {},
     "output_type": "execute_result"
    }
   ],
   "source": [
    "d2r,r2d"
   ]
  },
  {
   "cell_type": "code",
   "execution_count": 161,
   "metadata": {},
   "outputs": [],
   "source": [
    "u=np.unique(set)\n",
    "union=np.union1d(set,u)\n",
    "intersection=np.intersect1d(set,x)"
   ]
  },
  {
   "cell_type": "code",
   "execution_count": 158,
   "metadata": {},
   "outputs": [
    {
     "data": {
      "text/plain": [
       "(array([2, 3, 4, 7, 8, 9]), array([2, 3, 4, 7, 8, 9]), array([2, 4, 9]))"
      ]
     },
     "execution_count": 158,
     "metadata": {},
     "output_type": "execute_result"
    }
   ],
   "source": [
    "u,union,intersection"
   ]
  },
  {
   "cell_type": "code",
   "execution_count": 176,
   "metadata": {},
   "outputs": [],
   "source": [
    "dif=np.diff(x)\n",
    "diff=np.diff(x,n=2)\n",
    "where=np.where(u>5,\"ok\",\"nok\")"
   ]
  },
  {
   "cell_type": "code",
   "execution_count": 177,
   "metadata": {},
   "outputs": [
    {
     "data": {
      "text/plain": [
       "(array([-3,  7, -5]),\n",
       " array([ 10, -12]),\n",
       " array(['nok', 'nok', 'nok', 'ok', 'ok', 'ok'], dtype='<U3'))"
      ]
     },
     "execution_count": 177,
     "metadata": {},
     "output_type": "execute_result"
    }
   ],
   "source": [
    "dif,diff,where"
   ]
  },
  {
   "cell_type": "code",
   "execution_count": 183,
   "metadata": {},
   "outputs": [],
   "source": [
    "matrix1=np.random.randn(2,3)\n",
    "matrix2=np.random.randn(3,2)"
   ]
  },
  {
   "cell_type": "code",
   "execution_count": 184,
   "metadata": {},
   "outputs": [
    {
     "data": {
      "text/plain": [
       "(array([[-0.87084469,  0.05772106, -2.24105522],\n",
       "        [ 0.2118347 ,  0.9979031 , -0.4424553 ]]),\n",
       " array([[ 1.91608955,  2.05759293],\n",
       "        [-0.45773642,  1.52764334],\n",
       "        [ 0.16232218, -1.04896083]]))"
      ]
     },
     "execution_count": 184,
     "metadata": {},
     "output_type": "execute_result"
    }
   ],
   "source": [
    "matrix1,matrix2"
   ]
  },
  {
   "cell_type": "code",
   "execution_count": 192,
   "metadata": {},
   "outputs": [],
   "source": [
    "dot=matrix1.dot(matrix2)\n",
    "tp=matrix1.transpose()\n",
    "plus=matrix1+matrix1\n",
    "minus=matrix2-matrix2"
   ]
  },
  {
   "cell_type": "code",
   "execution_count": 195,
   "metadata": {},
   "outputs": [
    {
     "data": {
      "text/plain": [
       "(array([[-2.05881042,  0.64711244],\n",
       "        [-0.12270265,  2.42442788]]),\n",
       " array([[-0.87084469,  0.2118347 ],\n",
       "        [ 0.05772106,  0.9979031 ],\n",
       "        [-2.24105522, -0.4424553 ]]),\n",
       " array([[-1.74168939,  0.11544211, -4.48211045],\n",
       "        [ 0.4236694 ,  1.9958062 , -0.88491059]]),\n",
       " array([[0., 0.],\n",
       "        [0., 0.],\n",
       "        [0., 0.]]),\n",
       " 0.12705840483060615)"
      ]
     },
     "execution_count": 195,
     "metadata": {},
     "output_type": "execute_result"
    }
   ],
   "source": [
    "dot,tp,plus,minus,matrix1.trace()"
   ]
  },
  {
   "cell_type": "code",
   "execution_count": 197,
   "metadata": {},
   "outputs": [
    {
     "data": {
      "text/plain": [
       "3.605551275463989"
      ]
     },
     "execution_count": 197,
     "metadata": {},
     "output_type": "execute_result"
    }
   ],
   "source": [
    "base=2\n",
    "perp=3\n",
    "np.hypot(base,perp)\n"
   ]
  },
  {
   "cell_type": "code",
   "execution_count": 198,
   "metadata": {},
   "outputs": [
    {
     "data": {
      "text/plain": [
       "1.5707963267948966"
      ]
     },
     "execution_count": 198,
     "metadata": {},
     "output_type": "execute_result"
    }
   ],
   "source": [
    "np.arcsin(1)"
   ]
  },
  {
   "cell_type": "code",
   "execution_count": 199,
   "metadata": {},
   "outputs": [
    {
     "data": {
      "text/plain": [
       "0.0"
      ]
     },
     "execution_count": 199,
     "metadata": {},
     "output_type": "execute_result"
    }
   ],
   "source": [
    "np.arccos(1)"
   ]
  },
  {
   "cell_type": "code",
   "execution_count": 200,
   "metadata": {},
   "outputs": [
    {
     "data": {
      "text/plain": [
       "0.7853981633974483"
      ]
     },
     "execution_count": 200,
     "metadata": {},
     "output_type": "execute_result"
    }
   ],
   "source": [
    "np.arctan(1)"
   ]
  },
  {
   "cell_type": "code",
   "execution_count": null,
   "metadata": {},
   "outputs": [],
   "source": []
  }
 ],
 "metadata": {
  "kernelspec": {
   "display_name": "Python 3",
   "language": "python",
   "name": "python3"
  },
  "language_info": {
   "codemirror_mode": {
    "name": "ipython",
    "version": 3
   },
   "file_extension": ".py",
   "mimetype": "text/x-python",
   "name": "python",
   "nbconvert_exporter": "python",
   "pygments_lexer": "ipython3",
   "version": "3.8.5"
  }
 },
 "nbformat": 4,
 "nbformat_minor": 4
}
