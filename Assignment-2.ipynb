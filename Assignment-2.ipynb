{
 "cells": [
  {
   "cell_type": "code",
   "execution_count": 2,
   "metadata": {},
   "outputs": [],
   "source": [
    "import numpy as np"
   ]
  },
  {
   "cell_type": "code",
   "execution_count": 69,
   "metadata": {},
   "outputs": [
    {
     "data": {
      "text/plain": [
       "array([[25, 38, 15, 38, 50],\n",
       "       [21, 49, 41, 47, 43]])"
      ]
     },
     "execution_count": 69,
     "metadata": {},
     "output_type": "execute_result"
    }
   ],
   "source": [
    "#Q1\n",
    "arr=np.random.randint(10,51,10)\n",
    "arr2d=arr.reshape((2,5))\n",
    "arr2d"
   ]
  },
  {
   "cell_type": "code",
   "execution_count": 32,
   "metadata": {},
   "outputs": [
    {
     "data": {
      "text/plain": [
       "array([[40, 39, 16, 15, 38],\n",
       "       [29, 31, 23, 25, 48],\n",
       "       [46, 15, 34, 48, 19],\n",
       "       [24, 17, 33, 16, 26]])"
      ]
     },
     "execution_count": 32,
     "metadata": {},
     "output_type": "execute_result"
    }
   ],
   "source": [
    "#Q2\n",
    "arr=np.random.randint(10,51,10)\n",
    "arr2d2=arr.reshape((2,5))\n",
    "arr2d2\n",
    "np.vstack((arr2d,arr2d2))"
   ]
  },
  {
   "cell_type": "code",
   "execution_count": 33,
   "metadata": {},
   "outputs": [
    {
     "data": {
      "text/plain": [
       "array([[40, 39, 16, 15, 38, 46, 15, 34, 48, 19],\n",
       "       [29, 31, 23, 25, 48, 24, 17, 33, 16, 26]])"
      ]
     },
     "execution_count": 33,
     "metadata": {},
     "output_type": "execute_result"
    }
   ],
   "source": [
    "#Q3\n",
    "np.hstack((arr2d,arr2d2))"
   ]
  },
  {
   "cell_type": "code",
   "execution_count": 35,
   "metadata": {},
   "outputs": [
    {
     "data": {
      "text/plain": [
       "array([40, 39, 16, 15, 38, 29, 31, 23, 25, 48])"
      ]
     },
     "execution_count": 35,
     "metadata": {},
     "output_type": "execute_result"
    }
   ],
   "source": [
    "#Q4\n",
    "arr1d=arr2d.reshape(10)\n",
    "arr1d"
   ]
  },
  {
   "cell_type": "code",
   "execution_count": 53,
   "metadata": {},
   "outputs": [
    {
     "data": {
      "text/plain": [
       "(array([[[42, 23],\n",
       "         [36, 27]],\n",
       " \n",
       "        [[29, 48],\n",
       "         [35, 15]],\n",
       " \n",
       "        [[38, 19],\n",
       "         [35, 19]]]),\n",
       " array([42, 23, 36, 27, 29, 48, 35, 15, 38, 19, 35, 19]))"
      ]
     },
     "execution_count": 53,
     "metadata": {},
     "output_type": "execute_result"
    }
   ],
   "source": [
    "#Q5\n",
    "arr=np.random.randint(10,51,12)\n",
    "newarr2d=arr.reshape((3,2,2))\n",
    "new1d=newarr2d.reshape(12)\n",
    "newarr2d,new1d"
   ]
  },
  {
   "cell_type": "code",
   "execution_count": 54,
   "metadata": {},
   "outputs": [
    {
     "data": {
      "text/plain": [
       "array([[[42, 23],\n",
       "        [36, 27]],\n",
       "\n",
       "       [[29, 48],\n",
       "        [35, 15]],\n",
       "\n",
       "       [[38, 19],\n",
       "        [35, 19]]])"
      ]
     },
     "execution_count": 54,
     "metadata": {},
     "output_type": "execute_result"
    }
   ],
   "source": [
    "#Q6\n",
    "new1d.reshape((3,2,2))"
   ]
  },
  {
   "cell_type": "code",
   "execution_count": 60,
   "metadata": {},
   "outputs": [
    {
     "data": {
      "text/plain": [
       "(array([[49, 46, 38, 20, 29],\n",
       "        [46, 34, 12, 23, 39],\n",
       "        [12, 42, 28, 22, 31],\n",
       "        [39, 39, 40, 22, 43],\n",
       "        [14, 26, 19, 39, 28]]),\n",
       " array([[2401, 2116, 1444,  400,  841],\n",
       "        [2116, 1156,  144,  529, 1521],\n",
       "        [ 144, 1764,  784,  484,  961],\n",
       "        [1521, 1521, 1600,  484, 1849],\n",
       "        [ 196,  676,  361, 1521,  784]], dtype=int32))"
      ]
     },
     "execution_count": 60,
     "metadata": {},
     "output_type": "execute_result"
    }
   ],
   "source": [
    "#Q7\n",
    "array=np.random.randint(10,51,25)\n",
    "arr5=array.reshape((5,5))\n",
    "fbf=arr5\n",
    "sqr=fbf**2\n",
    "fbf,sqr\n"
   ]
  },
  {
   "cell_type": "code",
   "execution_count": 80,
   "metadata": {},
   "outputs": [
    {
     "data": {
      "text/plain": [
       "(array([[17, 16, 32, 27, 35, 26],\n",
       "        [23, 16, 21, 19, 39, 31],\n",
       "        [15, 20, 39, 37,  5, 27],\n",
       "        [39, 20,  9, 27, 21, 38],\n",
       "        [40, 34,  7, 28, 23, 19]]),\n",
       " 25.0)"
      ]
     },
     "execution_count": 80,
     "metadata": {},
     "output_type": "execute_result"
    }
   ],
   "source": [
    "#Q8\n",
    "arr=np.random.randint(5,41,30)\n",
    "fb6=arr.reshape(5,6)\n",
    "mean=np.mean(fb6)\n",
    "fb6,mean"
   ]
  },
  {
   "cell_type": "code",
   "execution_count": 81,
   "metadata": {},
   "outputs": [
    {
     "data": {
      "text/plain": [
       "9.80136044978791"
      ]
     },
     "execution_count": 81,
     "metadata": {},
     "output_type": "execute_result"
    }
   ],
   "source": [
    "#Q9\n",
    "np.std(fb6)"
   ]
  },
  {
   "cell_type": "code",
   "execution_count": 83,
   "metadata": {},
   "outputs": [
    {
     "data": {
      "text/plain": [
       "24.5"
      ]
     },
     "execution_count": 83,
     "metadata": {},
     "output_type": "execute_result"
    }
   ],
   "source": [
    "#Q10\n",
    "np.median(fb6)"
   ]
  },
  {
   "cell_type": "code",
   "execution_count": 85,
   "metadata": {},
   "outputs": [
    {
     "data": {
      "text/plain": [
       "array([[17, 23, 15, 39, 40],\n",
       "       [16, 16, 20, 20, 34],\n",
       "       [32, 21, 39,  9,  7],\n",
       "       [27, 19, 37, 27, 28],\n",
       "       [35, 39,  5, 21, 23],\n",
       "       [26, 31, 27, 38, 19]])"
      ]
     },
     "execution_count": 85,
     "metadata": {},
     "output_type": "execute_result"
    }
   ],
   "source": [
    "#Q11\n",
    "np.transpose(fb6)"
   ]
  },
  {
   "cell_type": "code",
   "execution_count": 122,
   "metadata": {},
   "outputs": [
    {
     "data": {
      "text/plain": [
       "36"
      ]
     },
     "execution_count": 122,
     "metadata": {},
     "output_type": "execute_result"
    }
   ],
   "source": [
    "#Q12\n",
    "fbf=np.random.randint(1,30,16).reshape(4,4)\n",
    "fbf.trace()"
   ]
  },
  {
   "cell_type": "code",
   "execution_count": 123,
   "metadata": {},
   "outputs": [
    {
     "data": {
      "text/plain": [
       "16002.000000000013"
      ]
     },
     "execution_count": 123,
     "metadata": {},
     "output_type": "execute_result"
    }
   ],
   "source": [
    "#Q13\n",
    "np.linalg.det(fbf)"
   ]
  },
  {
   "cell_type": "code",
   "execution_count": 149,
   "metadata": {},
   "outputs": [
    {
     "data": {
      "text/plain": [
       "(0.5, 9.5)"
      ]
     },
     "execution_count": 149,
     "metadata": {},
     "output_type": "execute_result"
    }
   ],
   "source": [
    " #Q14\n",
    "arr=np.arange(11)\n",
    "perc5=np.percentile(arr,5)\n",
    "perc95=np.percentile(arr,95)\n",
    "perc5,perc95"
   ]
  },
  {
   "cell_type": "code",
   "execution_count": null,
   "metadata": {},
   "outputs": [],
   "source": []
  }
 ],
 "metadata": {
  "kernelspec": {
   "display_name": "Python 3",
   "language": "python",
   "name": "python3"
  },
  "language_info": {
   "codemirror_mode": {
    "name": "ipython",
    "version": 3
   },
   "file_extension": ".py",
   "mimetype": "text/x-python",
   "name": "python",
   "nbconvert_exporter": "python",
   "pygments_lexer": "ipython3",
   "version": "3.8.5"
  }
 },
 "nbformat": 4,
 "nbformat_minor": 4
}
